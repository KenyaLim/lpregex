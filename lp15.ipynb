{
 "cells": [
  {
   "cell_type": "code",
   "execution_count": 5,
   "metadata": {},
   "outputs": [
    {
     "name": "stdout",
     "output_type": "stream",
     "text": [
      "1945-08-17 00:00:00 selisih 28775 hari\n",
      "1785-11-11 00:00:00 selisih 87127 hari\n",
      "1783-06-08 00:00:00 selisih 88014 hari\n",
      "1889-05-02 00:00:00 selisih 49335 hari\n"
     ]
    }
   ],
   "source": [
    "import datetime\n",
    "import re\n",
    "text = \"\"\"\n",
    "Pada tanggal 1945-08-17 Indonesia merdeka. Indonesia memiliki beberapa pahlawan nasional, seperti Pangeran Diponegoro (TL: 1785-11-11), Pattimura (TL: 1783-06-08) dan Ki Hajar Dewantara (1889-05-02).\n",
    "\"\"\"\n",
    "\n",
    "dates = re.findall(r'\\b\\d{4}-\\d{2}-\\d{2}\\b', text)\n",
    "\n",
    "now = datetime.date.today()\n",
    "\n",
    "for date in dates:\n",
    "    year, month, day = map(int, date.split('-'))\n",
    "    date_object = datetime.date(year, month, day)\n",
    "    diff = (now - date_object).days\n",
    "    print(f\"{date} 00:00:00 selisih {diff} hari\")"
   ]
  }
 ],
 "metadata": {
  "kernelspec": {
   "display_name": "Python 3",
   "language": "python",
   "name": "python3"
  },
  "language_info": {
   "codemirror_mode": {
    "name": "ipython",
    "version": 3
   },
   "file_extension": ".py",
   "mimetype": "text/x-python",
   "name": "python",
   "nbconvert_exporter": "python",
   "pygments_lexer": "ipython3",
   "version": "3.12.3"
  }
 },
 "nbformat": 4,
 "nbformat_minor": 2
}
